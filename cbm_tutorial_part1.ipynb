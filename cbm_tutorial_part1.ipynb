{
 "cells": [
  {
   "cell_type": "markdown",
   "metadata": {},
   "source": [
    "Gaia Molinaro, April 2022, Berkeley (CA)"
   ]
  },
  {
   "cell_type": "markdown",
   "metadata": {},
   "source": [
    "Going through the demo shown in https://payampiray.github.io/cbm by Payam Piray, but using Python with the MATLAB engine\n",
    "\n",
    "The original repository is [here](https://github.com/payampiray/cbm). For the package to work with Python, a couple of changes are necessary ", 
    "(mainly for function calling). The adapted codes are in [this repository](https://github.com/gaiamolinaro/cbm)."
   ]
  },
  {
   "cell_type": "code",
   "execution_count": 13,
   "metadata": {
    "pycharm": {
     "name": "#%%\n"
    }
   },
   "outputs": [],
   "source": [
    "import matlab.engine\n",
    "import numpy as np\n",
    "import matplotlib.pyplot as plt\n",
    "from cbm_helpers import loadmat"
   ]
  },
  {
   "cell_type": "code",
   "execution_count": 15,
   "metadata": {
    "pycharm": {
     "is_executing": true,
     "name": "#%%\n"
    }
   },
   "outputs": [],
   "source": [
    "m = matlab.engine.start_matlab()"
   ]
  },
  {
   "cell_type": "markdown",
   "metadata": {
    "pycharm": {
     "name": "#%% md\n"
    }
   },
   "source": [
    "# Initialize"
   ]
  },
  {
   "cell_type": "code",
   "execution_count": null,
   "metadata": {
    "pycharm": {
     "is_executing": true,
     "name": "#%%\n"
    }
   },
   "outputs": [],
   "source": [
    "cbm_path = \"C:/Program Files/MATLAB/R2022a/cbm-master\"\n",
    "m.addpath(cbm_path, nargout=0)"
   ]
  },
  {
   "cell_type": "markdown",
   "metadata": {
    "pycharm": {
     "name": "#%% md\n"
    }
   },
   "source": [
    "# Load the data"
   ]
  },
  {
   "cell_type": "code",
   "execution_count": null,
   "metadata": {
    "pycharm": {
     "is_executing": true,
     "name": "#%%\n"
    }
   },
   "outputs": [],
   "source": [
    "data = m.load(\"example_RL_task/all_data.mat\")[\"data\"]\n",
    "subj1 = data[0]"
   ]
  },
  {
   "cell_type": "markdown",
   "metadata": {
    "pycharm": {
     "name": "#%% md\n"
    }
   },
   "source": [
    "# Check model compatibility\n",
    "Check that the models are compatible with cbm by generating a vector of random parameters and calling the llh funs\n",
    "Note that in theory, RL models require constrained parameters (e.g. alpha between 0 and 1) while randn draws from\n",
    "a random distribution. In model_RL and model_dualRL, some transformations applied to the normally-distributed\n",
    "parameters to meet their theoretical bounds. If your models don't do so, you could try choosing parameters within\n",
    "your range. F1 and F2 should be real negative scalars.\n",
    "All models should have the structure: llh = model(parameters, data)"
   ]
  },
  {
   "cell_type": "code",
   "execution_count": null,
   "metadata": {
    "pycharm": {
     "is_executing": true,
     "name": "#%%\n"
    }
   },
   "outputs": [],
   "source": [
    "parameters = m.randn(1, 2)\n",
    "F1 = m.model_RL(parameters, subj1)\n",
    "parameters = m.randn(1, 3)\n",
    "F2 = m.model_dualRL(parameters, subj1)"
   ]
  },
  {
   "cell_type": "markdown",
   "metadata": {
    "pycharm": {
     "name": "#%% md\n"
    }
   },
   "source": [
    "# Fit individuals\n",
    "First, we should run cbm_lap, which fits every model to each subject data separately (i.e. in a non-hierarchical\n",
    "fashion). cbm_lap employs Laplace approximation, which needs a normal prior for every parameter.\n",
    "We set zero as the prior mean. We also assume that the prior variance for all parameters is 6.25.\n",
    "This variance is large enough to cover a wide range of parameters with no excessive penalty (see supplementary\n",
    "materials of the reference article for more details on how this variance is calculated)."
   ]
  },
  {
   "cell_type": "code",
   "execution_count": null,
   "metadata": {
    "pycharm": {
     "is_executing": true,
     "name": "#%%\n"
    }
   },
   "outputs": [],
   "source": [
    "v = 6.25  # same for all parameters\n",
    "prior_RL = m.struct(\"mean\", m.zeros(2, 1), \"variance\", v)  # note dimension of \"mean\" - corresponds to len(parameters)\n",
    "prior_dualRL = m.struct(\"mean\", m.zeros(3, 1), \"variance\", v)  # note dimension of \"mean\""
   ]
  },
  {
   "cell_type": "markdown",
   "metadata": {},
   "source": [
    "We also need to specify a file-address for saving the output of each model:"
   ]
  },
  {
   "cell_type": "code",
   "execution_count": null,
   "metadata": {
    "pycharm": {
     "is_executing": true,
     "name": "#%%\n"
    }
   },
   "outputs": [],
   "source": [
    "fname_RL = \"lap_RL.mat\"\n",
    "fname_dualRL = \"lap_dualRL.mat\""
   ]
  },
  {
   "cell_type": "markdown",
   "metadata": {},
   "source": [
    "Now we run cbm_lap for each model. Note that model_RL and model_dualRL are both in the current directory."
   ]
  },
  {
   "cell_type": "code",
   "execution_count": null,
   "metadata": {
    "pycharm": {
     "is_executing": true,
     "name": "#%%\n"
    }
   },
   "outputs": [],
   "source": [
    "m.cbm_lap(data, \"model_RL\", prior_RL, fname_RL, nargout=0)\n",
    "m.cbm_lap(data, \"model_dualRL\", prior_dualRL, fname_dualRL, nargout=0)\n",
    "# Running this command prints a report on your MATLAB output"
   ]
  },
  {
   "cell_type": "markdown",
   "metadata": {},
   "source": [
    "Check the output file"
   ]
  },
  {
   "cell_type": "code",
   "execution_count": null,
   "metadata": {
    "pycharm": {
     "is_executing": true,
     "name": "#%%\n"
    }
   },
   "outputs": [],
   "source": [
    "fname = m.load(\"lap_RL.mat\")\n",
    "cbm = fname[\"cbm\"]"
   ]
  },
  {
   "cell_type": "code",
   "execution_count": null,
   "metadata": {
    "pycharm": {
     "is_executing": true,
     "name": "#%%\n"
    }
   },
   "outputs": [],
   "source": [
    "# look at fitted parameters\n",
    "np.array(cbm[\"output\"][\"parameters\"])"
   ]
  },
  {
   "cell_type": "markdown",
   "metadata": {
    "pycharm": {
     "name": "#%% md\n"
    }
   },
   "source": [
    "# Hierarchical Bayesian Inference (HBI)"
   ]
  },
  {
   "cell_type": "code",
   "execution_count": null,
   "metadata": {
    "pycharm": {
     "is_executing": true,
     "name": "#%%\n"
    }
   },
   "outputs": [],
   "source": [
    "# 1st input: data for all subjects (already defined above)\n",
    "# data = m.load(\"example_RL_task/all_data.mat\")[\"data\"]\n",
    "\n",
    "# 2nd input: a cell containing the models (function handles in the original)\n",
    "models = m.cell([\"model_RL\", \"model_dualRL\"])\n",
    "\n",
    "# 3rd input: another cell input containing file-address to files saved by cbm_lap\n",
    "# note that they correspond to models (so pay attention to the order)\n",
    "fcbm_maps = m.cell([\"lap_RL.mat\", \"lap_dualRL.mat\"])\n",
    "\n",
    "# 4th input: a file address for saving the output\n",
    "fname_hbi = \"hbi_RL_dualRL.mat\"\n",
    "\n",
    "# This will throw an error saying ValueError: only a scalar struct can be returned from MATLAB\n",
    "# but will still save the file\n",
    "# Workaround: use an exception handling statement\n",
    "try:\n",
    "    m.cbm_hbi(data, models, fcbm_maps, fname_hbi, nargout=0)\n",
    "    # Running this command prints a report on your MATLAB output\n",
    "    fname_hbi = m.load(\"hbi_RL_dualRL.mat\")\n",
    "except ValueError:\n",
    "    print(\"ValueError caught\")\n",
    "    fname_hbi = loadmat(\"hbi_RL_dualRL.mat\")\n",
    "\n",
    "cbm = fname_hbi[\"cbm\"]"
   ]
  },
  {
   "cell_type": "markdown",
   "metadata": {
    "pycharm": {
     "name": "#%% md\n"
    }
   },
   "source": [
    "Check model frequency"
   ]
  },
  {
   "cell_type": "code",
   "execution_count": null,
   "metadata": {
    "pycharm": {
     "is_executing": true,
     "name": "#%%\n"
    }
   },
   "outputs": [],
   "source": [
    "cbm[\"output\"][\"model_frequency\"]"
   ]
  },
  {
   "cell_type": "markdown",
   "metadata": {},
   "source": [
    "Check group means"
   ]
  },
  {
   "cell_type": "code",
   "execution_count": null,
   "metadata": {
    "pycharm": {
     "is_executing": true,
     "name": "#%%\n"
    }
   },
   "outputs": [],
   "source": [
    "# group mean for parameters of model_RL\n",
    "cbm[\"output\"][\"group_mean\"][0]"
   ]
  },
  {
   "cell_type": "code",
   "execution_count": null,
   "metadata": {
    "pycharm": {
     "is_executing": true,
     "name": "#%%\n"
    }
   },
   "outputs": [],
   "source": [
    "# group mean for parameters of model_dualRL\n",
    "cbm[\"output\"][\"group_mean\"][1]"
   ]
  },
  {
   "cell_type": "markdown",
   "metadata": {},
   "source": [
    "Check parameters"
   ]
  },
  {
   "cell_type": "code",
   "execution_count": null,
   "metadata": {
    "pycharm": {
     "is_executing": true,
     "name": "#%%\n"
    }
   },
   "outputs": [],
   "source": [
    "# RL\n",
    "cbm[\"output\"][\"group_hierarchical_errorbar\"][0]"
   ]
  },
  {
   "cell_type": "code",
   "execution_count": null,
   "metadata": {
    "pycharm": {
     "is_executing": true,
     "name": "#%%\n"
    }
   },
   "outputs": [],
   "source": [
    "# dualRL\n",
    "cbm[\"output\"][\"group_hierarchical_errorbar\"][1]"
   ]
  },
  {
   "cell_type": "markdown",
   "metadata": {
    "pycharm": {
     "name": "#%% md\n"
    }
   },
   "source": [
    "# Plot\n",
    "You can use the group_mean and group_hierarchical_errorbar values to plot group parameters,\n",
    "or use cbm_hbi_plot to plot the main outputs of the HBI."
   ]
  },
  {
   "cell_type": "code",
   "execution_count": null,
   "metadata": {
    "pycharm": {
     "is_executing": true,
     "name": "#%%\n"
    }
   },
   "outputs": [],
   "source": [
    "# 1st input: the file-address of the file saved by cbm_hbi\n",
    "fname_hbi = \"hbi_RL_dualRL.mat\"\n",
    "\n",
    "# 2nd input: a cell input containing model names\n",
    "model_names = m.cell([\"RL\", \"Dual RL\"])\n",
    "# note that they correspond to models (so pay attention to the order)\n",
    "\n",
    "# 3rd input: another cell input containing parameter names of the winning model\n",
    "param_names = m.cell([r\"\\alpha^+\", r\"\\alpha^-\", r\"\\beta\"])\n",
    "\n",
    "# 4th input: another cell input containing transformation function associated with each parameter of the winning model\n",
    "transform = m.cell([\"sigmoid\", \"sigmoid\", \"exp\"])\n",
    "# note that if you use a less usual transformation function, you should pass the handle here (instead of a string)\n",
    "\n",
    "# this function creates a model comparison plot (exceedanace probability and model frequency) as well as\n",
    "# a plot of transformed parameters of the most frequent model.\n",
    "k = int(np.argmax(cbm[\"output\"][\"model_frequency\"])+1)   # model of interest (winning model) + 1 to account for 0-indexing in Python\n",
    "save_figs = m.logical(0)  # set to 1 to save figures as png files\n",
    "# important to give all arguments if using save_figs\n",
    "m.cbm_hbi_plot(fname_hbi, model_names, param_names, transform, k, save_figs, nargout=0)"
   ]
  },
  {
   "cell_type": "markdown",
   "metadata": {
    "pycharm": {
     "name": "#%% md\n"
    }
   },
   "source": [
    "# Responsibility\n",
    "We can look at the estimated responsibility that each model generated each individual dataset.\n",
    "Across models, responsibilities sum to 1 for each subject."
   ]
  },
  {
   "cell_type": "code",
   "execution_count": null,
   "metadata": {
    "pycharm": {
     "is_executing": true,
     "name": "#%%\n"
    }
   },
   "outputs": [],
   "source": [
    "cbm[\"output\"][\"parameters\"][0]"
   ]
  },
  {
   "cell_type": "code",
   "execution_count": null,
   "metadata": {
    "pycharm": {
     "is_executing": true,
     "name": "#%%\n"
    }
   },
   "outputs": [],
   "source": [
    "cbm[\"output\"][\"parameters\"][1]"
   ]
  },
  {
   "cell_type": "code",
   "execution_count": null,
   "metadata": {
    "pycharm": {
     "is_executing": true,
     "name": "#%%\n"
    }
   },
   "outputs": [],
   "source": [
    "cbm[\"output\"][\"responsibility\"]\n",
    "# The first and second columns indicate the responsibility of model_RL and model_dualRL in generating the corresponding\n",
    "# subject data, respectively."
   ]
  },
  {
   "cell_type": "markdown",
   "metadata": {
    "pycharm": {
     "name": "#%% md\n"
    }
   },
   "source": [
    "Look at the estimated responsibility of model_dualRL:"
   ]
  },
  {
   "cell_type": "code",
   "execution_count": null,
   "metadata": {
    "pycharm": {
     "is_executing": true,
     "name": "#%%\n"
    }
   },
   "outputs": [],
   "source": [
    "fig, ax = plt.subplots()\n",
    "ax.plot(cbm[\"output\"][\"responsibility\"][:, 1])\n",
    "ax.set_ylim(-0.1, 1.1)\n",
    "ax.set_title(\"model_dualRL Responsibility\")"
   ]
  },
  {
   "cell_type": "markdown",
   "metadata": {
    "pycharm": {
     "name": "#%% md\n"
    }
   },
   "source": [
    "# Exceedance probability\n",
    "The exceedance probability indicates the probability that each model is the most likely model across the group."
   ]
  },
  {
   "cell_type": "code",
   "execution_count": null,
   "metadata": {
    "pycharm": {
     "is_executing": true,
     "name": "#%%\n"
    }
   },
   "outputs": [],
   "source": [
    "cbm[\"output\"][\"exceedance_prob\"]"
   ]
  },
  {
   "cell_type": "markdown",
   "metadata": {},
   "source": [
    "# Protected exceedance probability\n",
    "A more useful metric is called protected exceedance probability, which also takes into account the null hypothesis\n",
    "that no model in the model space is most likely across the population (i.e. any difference between model frequencies\n",
    "is due to chance).\n",
    "This is currently only NaN values:"
   ]
  },
  {
   "cell_type": "code",
   "execution_count": null,
   "metadata": {
    "pycharm": {
     "is_executing": true,
     "name": "#%%\n"
    }
   },
   "outputs": [],
   "source": [
    "cbm[\"output\"][\"protected_exceedance_prob\"]"
   ]
  },
  {
   "cell_type": "markdown",
   "metadata": {},
   "source": [
    "This is because for computing protected exceedance probabilities, the HBI should be re-run under the (prior) null\n",
    "hypothesis.\n",
    "This is how you can do it:"
   ]
  },
  {
   "cell_type": "code",
   "execution_count": null,
   "metadata": {
    "pycharm": {
     "is_executing": true,
     "name": "#%%\n"
    }
   },
   "outputs": [],
   "source": [
    "# 1st input is data,\n",
    "# 2nd input is the file-address of the file saved by cbm_hbi\n",
    "try:\n",
    "    m.cbm_hbi_null(data, fname_hbi)\n",
    "except ValueError:\n",
    "    print(\"ValueError caught\")\n",
    "cbm[\"output\"][\"protected_exceedance_prob\"]"
   ]
  },
  {
   "cell_type": "markdown",
   "metadata": {
    "pycharm": {
     "is_executing": true,
     "name": "#%% md\n"
    }
   },
   "source": [
    "# Close the MATLAB engine"
   ]
  },
  {
   "cell_type": "code",
   "execution_count": null,
   "outputs": [],
   "source": [
    "m.exit()"
   ],
   "metadata": {
    "collapsed": false,
    "pycharm": {
     "name": "#%%\n"
    }
   }
  }
 ],
 "metadata": {
  "kernelspec": {
   "display_name": "Python 3 (ipykernel)",
   "language": "python",
   "name": "python3"
  },
  "language_info": {
   "codemirror_mode": {
    "name": "ipython",
    "version": 3
   },
   "file_extension": ".py",
   "mimetype": "text/x-python",
   "name": "python",
   "nbconvert_exporter": "python",
   "pygments_lexer": "ipython3",
   "version": "3.9.6"
  }
 },
 "nbformat": 4,
 "nbformat_minor": 1
}
